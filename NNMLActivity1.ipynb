{
  "nbformat": 4,
  "nbformat_minor": 0,
  "metadata": {
    "colab": {
      "name": "NNMLActivity1.ipynb",
      "provenance": [],
      "collapsed_sections": [],
      "authorship_tag": "ABX9TyNxAm53Lm0QoLMncSITZni7",
      "include_colab_link": true
    },
    "kernelspec": {
      "name": "python3",
      "display_name": "Python 3"
    }
  },
  "cells": [
    {
      "cell_type": "markdown",
      "metadata": {
        "id": "view-in-github",
        "colab_type": "text"
      },
      "source": [
        "<a href=\"https://colab.research.google.com/github/Debagnik/arduino/blob/master/NNMLActivity1.ipynb\" target=\"_parent\"><img src=\"https://colab.research.google.com/assets/colab-badge.svg\" alt=\"Open In Colab\"/></a>"
      ]
    },
    {
      "cell_type": "markdown",
      "metadata": {
        "id": "494iXmP7lgyS"
      },
      "source": [
        "#Activity 1 Nueral Network & Machine Learning submitted to Dr Vimal Kumar Shrivastava\r\n",
        "<hr>\r\n",
        "\r\n",
        "#Submitted by Debagnik Kar <br> Rollno: 1804373 <br/>Section: ETC-06"
      ]
    },
    {
      "cell_type": "code",
      "metadata": {
        "id": "vFH5wC0cmCxw"
      },
      "source": [
        "#importing necessary libraries for assignment\r\n",
        "import numpy as np\r\n",
        "import matplotlib.pyplot as plt\r\n",
        "import pandas as pd\r\n",
        "import math as m"
      ],
      "execution_count": null,
      "outputs": []
    },
    {
      "cell_type": "markdown",
      "metadata": {
        "id": "4Vn6bQlSl5kU"
      },
      "source": [
        "* Write a NumPy program to create an array of 10 zeros,10 ones, 10 fives."
      ]
    },
    {
      "cell_type": "code",
      "metadata": {
        "id": "dTGPZm9VlLVC"
      },
      "source": [
        "arr = np.array([np.zeros(10),np.ones(10),np.ones(10)*5],dtype=int)\r\n",
        "print(arr)"
      ],
      "execution_count": null,
      "outputs": []
    },
    {
      "cell_type": "markdown",
      "metadata": {
        "id": "pK78OZkgrUzj"
      },
      "source": [
        "* Write a NumPy program to find the number of rows and columns of a given matrix."
      ]
    },
    {
      "cell_type": "code",
      "metadata": {
        "id": "SpUWuPmOq7Ps"
      },
      "source": [
        "s = arr.shape\r\n",
        "print(s)"
      ],
      "execution_count": null,
      "outputs": []
    },
    {
      "cell_type": "markdown",
      "metadata": {
        "id": "aZGp0ljjtkJw"
      },
      "source": [
        "* Write a Pandas program to replace all the NaN values with Zero's in a column of a dataframe.\r\n",
        "(Use IMDB-Movie-Data file)"
      ]
    },
    {
      "cell_type": "code",
      "metadata": {
        "id": "7j3AMsmE8v1-"
      },
      "source": [
        "# data collection\n",
        "!cd sample_data\n",
        "!wget https://raw.githubusercontent.com/LearnDataSci/articles/master/Python%20Pandas%20Tutorial%20A%20Complete%20Introduction%20for%20Beginners/IMDB-Movie-Data.csv"
      ],
      "execution_count": null,
      "outputs": []
    },
    {
      "cell_type": "code",
      "metadata": {
        "id": "jstizAfuub1q"
      },
      "source": [
        "#reading the data\r\n",
        "data = pd.read_csv(\"IMDB-Movie-Data.csv\")\r\n",
        "data.head(5)"
      ],
      "execution_count": null,
      "outputs": []
    },
    {
      "cell_type": "code",
      "metadata": {
        "id": "csR2ZuoBvZVc"
      },
      "source": [
        "data.info()"
      ],
      "execution_count": null,
      "outputs": []
    },
    {
      "cell_type": "code",
      "metadata": {
        "id": "zPj5ry8Qvmbf"
      },
      "source": [
        "data.isnull().sum()"
      ],
      "execution_count": null,
      "outputs": []
    },
    {
      "cell_type": "code",
      "metadata": {
        "id": "eebKRZQzEsMH"
      },
      "source": [
        "#filling NaN values\r\n",
        "data.fillna(0,inplace=True)\r\n",
        "data.isnull().sum()"
      ],
      "execution_count": null,
      "outputs": []
    },
    {
      "cell_type": "markdown",
      "metadata": {
        "id": "curGpfgtE4Sb"
      },
      "source": [
        "* Write a Pandas program to get those movies whose revenue more than 100 million in IMDB-\r\n",
        "Movie-Data file."
      ]
    },
    {
      "cell_type": "code",
      "metadata": {
        "id": "54tcS6R6Eyu1"
      },
      "source": [
        "money = data['Revenue (Millions)']\r\n",
        "more100 = data[money>=100]\r\n",
        "more100"
      ],
      "execution_count": null,
      "outputs": []
    },
    {
      "cell_type": "markdown",
      "metadata": {
        "id": "kN6JCw-mFCUE"
      },
      "source": [
        "* Write a Python program to plot two lines with legends, different widths, colors and style."
      ]
    },
    {
      "cell_type": "code",
      "metadata": {
        "id": "40Zqf3_NE-eh"
      },
      "source": [
        "#two functions writen\r\n",
        "t = np.linspace(0,100,1000)\r\n",
        "x = np.exp(-0.5*t)\r\n",
        "y = np.sin(2*m.pi*0.02*t)"
      ],
      "execution_count": null,
      "outputs": []
    },
    {
      "cell_type": "code",
      "metadata": {
        "id": "9gbZfSXpFG0o"
      },
      "source": [
        "#plotting\r\n",
        "plt.plot(t,x,'g',t,y,'k--',linewidth=1)\r\n",
        "plt.legend(['exponential function','sine function'], loc = 'lower right')\r\n",
        "plt.xlabel(\"Time axis\")\r\n",
        "plt.ylabel(\"Amplitude axis\")\r\n",
        "plt.title(\"sample function plots\")"
      ],
      "execution_count": null,
      "outputs": []
    },
    {
      "cell_type": "markdown",
      "metadata": {
        "id": "MoDOMMrBFL-d"
      },
      "source": [
        "* Write a Python program to display a bar chart of the popularity of programming Languages."
      ]
    },
    {
      "cell_type": "code",
      "metadata": {
        "id": "KhToCfWTFVSm"
      },
      "source": [
        "# data entry\r\n",
        "lan = ['Java', 'Python', 'PHP', 'JavaScript', 'C#', 'C++']\r\n",
        "pop = [22.2, 17.6, 8.8, 8, 7.7, 6.7]"
      ],
      "execution_count": null,
      "outputs": []
    },
    {
      "cell_type": "code",
      "metadata": {
        "id": "VkK-P_EYFb1M"
      },
      "source": [
        "plt.bar(lan,pop,color = (\"g\",\"b\",\"r\",\"m\",\"c\",\"y\"), edgecolor = \"k\")\r\n",
        "plt.title(\"popularity chart\")\r\n",
        "plt.xlabel(\"Programming langauge\")\r\n",
        "plt.ylabel(\"Popularity in millions\")"
      ],
      "execution_count": null,
      "outputs": []
    }
  ]
}